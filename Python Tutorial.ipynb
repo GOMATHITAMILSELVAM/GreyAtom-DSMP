{
 "cells": [
  {
   "cell_type": "code",
   "execution_count": 1,
   "metadata": {},
   "outputs": [],
   "source": [
    "##What are variables?\n",
    "#Variables are used to store values in memory. We can store integers, decimals, characters, words or sentences in a variable. \n",
    "#In order to assign value to a variable, use the equal(=) sign\n",
    "x=1 #integer\n",
    "y='2' #string\n",
    "name='Gomathi' #string\n",
    "flt=2.3 #float"
   ]
  },
  {
   "cell_type": "code",
   "execution_count": 2,
   "metadata": {},
   "outputs": [
    {
     "data": {
      "text/plain": [
       "('Gomathi', 1, '2')"
      ]
     },
     "execution_count": 2,
     "metadata": {},
     "output_type": "execute_result"
    }
   ],
   "source": [
    "name,x,y"
   ]
  },
  {
   "cell_type": "code",
   "execution_count": 3,
   "metadata": {},
   "outputs": [],
   "source": [
    "#Data types in Python\n",
    "#Python has 6 standard data types:\n",
    "#1.Boolean\n",
    "#2.Numbers\n",
    "#3.String\n",
    "#4.List\n",
    "#5.Dictionary\n",
    "#6.Tuple"
   ]
  },
  {
   "cell_type": "code",
   "execution_count": 4,
   "metadata": {},
   "outputs": [],
   "source": [
    "x=(2==3)"
   ]
  },
  {
   "cell_type": "code",
   "execution_count": 5,
   "metadata": {},
   "outputs": [
    {
     "data": {
      "text/plain": [
       "False"
      ]
     },
     "execution_count": 5,
     "metadata": {},
     "output_type": "execute_result"
    }
   ],
   "source": [
    "x"
   ]
  },
  {
   "cell_type": "code",
   "execution_count": 6,
   "metadata": {},
   "outputs": [
    {
     "name": "stdout",
     "output_type": "stream",
     "text": [
      "Welcome to python programming tutorial\n"
     ]
    }
   ],
   "source": [
    "#print function\n",
    "print(\"Welcome to python programming tutorial\")"
   ]
  },
  {
   "cell_type": "code",
   "execution_count": 8,
   "metadata": {},
   "outputs": [
    {
     "name": "stdout",
     "output_type": "stream",
     "text": [
      "16\n"
     ]
    }
   ],
   "source": [
    "print(2*8)"
   ]
  },
  {
   "cell_type": "code",
   "execution_count": 7,
   "metadata": {},
   "outputs": [
    {
     "name": "stdout",
     "output_type": "stream",
     "text": [
      "I started with 100$  and now I have 194.87$\n"
     ]
    }
   ],
   "source": [
    "savings=100\n",
    "result=round((100*(1.1**7)),2)\n",
    "print('I started with '+ str(savings)+ \"$  and now I have \" + str(result) +'$')"
   ]
  },
  {
   "cell_type": "code",
   "execution_count": 23,
   "metadata": {},
   "outputs": [
    {
     "name": "stdout",
     "output_type": "stream",
     "text": [
      "Helloworld\n",
      "HelloHello\n"
     ]
    }
   ],
   "source": [
    "#CONCATENATION-----String Addition\n",
    "#str1+str2 is possible but str+int is not possible\n",
    "#REPITITION-----String multiplication\n",
    "#str*int is possible but str*str is not possible\n",
    "str1=\"Hello\"\n",
    "str2=\"world\"\n",
    "print(str1 + str2)\n",
    "print(str1*2)"
   ]
  },
  {
   "cell_type": "code",
   "execution_count": 12,
   "metadata": {},
   "outputs": [
    {
     "name": "stdout",
     "output_type": "stream",
     "text": [
      "<class 'int'>\n"
     ]
    }
   ],
   "source": [
    "#Determining the type of object with type()\n",
    "#If you are confused regarding what class an object belongs to simply use the type() function. \n",
    "#In the example above the types of the variables are int, float and str respectively.\n",
    "a=4\n",
    "print(type(a))"
   ]
  },
  {
   "cell_type": "code",
   "execution_count": 14,
   "metadata": {},
   "outputs": [
    {
     "data": {
      "text/plain": [
       "True"
      ]
     },
     "execution_count": 14,
     "metadata": {},
     "output_type": "execute_result"
    }
   ],
   "source": [
    "#Checking instance type with isinstance()\n",
    "\n",
    "#The isinstance() function checks if the object (first argument) is an instance or subclass of classinfo (second argument).\n",
    "#Its syntax is: isinstance(object, classinfo)\n",
    "#It returns True if the object is an instance or subclass of a class, or any element of the tuple False otherwise.\n",
    "b=5\n",
    "isinstance(b, int)"
   ]
  },
  {
   "cell_type": "code",
   "execution_count": 1,
   "metadata": {},
   "outputs": [],
   "source": [
    "#Numeric Types\n",
    "#int \n",
    "#float\n",
    "#complex\n",
    "x=2\n",
    "y=4.5\n",
    "z=1+2j"
   ]
  },
  {
   "cell_type": "code",
   "execution_count": 2,
   "metadata": {},
   "outputs": [
    {
     "name": "stdout",
     "output_type": "stream",
     "text": [
      "<class 'complex'>\n"
     ]
    }
   ],
   "source": [
    "print(type(z))"
   ]
  },
  {
   "cell_type": "code",
   "execution_count": 6,
   "metadata": {},
   "outputs": [
    {
     "data": {
      "text/plain": [
       "22.627416997969522"
      ]
     },
     "execution_count": 6,
     "metadata": {},
     "output_type": "execute_result"
    }
   ],
   "source": [
    "x+y\n",
    "x-y\n",
    "y//x#interger division\n",
    "y**x#y to the power x\n",
    "pow(x,y)"
   ]
  },
  {
   "cell_type": "code",
   "execution_count": 22,
   "metadata": {},
   "outputs": [
    {
     "data": {
      "text/plain": [
       "8"
      ]
     },
     "execution_count": 22,
     "metadata": {},
     "output_type": "execute_result"
    }
   ],
   "source": [
    "c=-8\n",
    "abs(c)#absolute value"
   ]
  },
  {
   "cell_type": "code",
   "execution_count": 17,
   "metadata": {},
   "outputs": [
    {
     "data": {
      "text/plain": [
       "0.6931471805599453"
      ]
     },
     "execution_count": 17,
     "metadata": {},
     "output_type": "execute_result"
    }
   ],
   "source": [
    "from math import log\n",
    "log(2)"
   ]
  },
  {
   "cell_type": "code",
   "execution_count": 19,
   "metadata": {},
   "outputs": [
    {
     "data": {
      "text/plain": [
       "0.3010299956639812"
      ]
     },
     "execution_count": 19,
     "metadata": {},
     "output_type": "execute_result"
    }
   ],
   "source": [
    "import math\n",
    "math.log10(2)"
   ]
  },
  {
   "cell_type": "code",
   "execution_count": 24,
   "metadata": {},
   "outputs": [],
   "source": [
    "del c ##to delete the variable"
   ]
  },
  {
   "cell_type": "code",
   "execution_count": 25,
   "metadata": {},
   "outputs": [
    {
     "ename": "NameError",
     "evalue": "name 'c' is not defined",
     "output_type": "error",
     "traceback": [
      "\u001b[1;31m---------------------------------------------------------------------------\u001b[0m",
      "\u001b[1;31mNameError\u001b[0m                                 Traceback (most recent call last)",
      "\u001b[1;32m<ipython-input-25-2b66fd261ee5>\u001b[0m in \u001b[0;36m<module>\u001b[1;34m\u001b[0m\n\u001b[1;32m----> 1\u001b[1;33m \u001b[0mc\u001b[0m\u001b[1;33m\u001b[0m\u001b[1;33m\u001b[0m\u001b[0m\n\u001b[0m",
      "\u001b[1;31mNameError\u001b[0m: name 'c' is not defined"
     ]
    }
   ],
   "source": [
    "c"
   ]
  },
  {
   "cell_type": "code",
   "execution_count": 27,
   "metadata": {},
   "outputs": [],
   "source": [
    "##type conversion\n",
    "x=2\n",
    "y=str(x)"
   ]
  },
  {
   "cell_type": "code",
   "execution_count": 28,
   "metadata": {},
   "outputs": [
    {
     "data": {
      "text/plain": [
       "'2'"
      ]
     },
     "execution_count": 28,
     "metadata": {},
     "output_type": "execute_result"
    }
   ],
   "source": [
    "y"
   ]
  },
  {
   "cell_type": "code",
   "execution_count": 29,
   "metadata": {},
   "outputs": [
    {
     "data": {
      "text/plain": [
       "str"
      ]
     },
     "execution_count": 29,
     "metadata": {},
     "output_type": "execute_result"
    }
   ],
   "source": [
    "type(y)"
   ]
  },
  {
   "cell_type": "code",
   "execution_count": 30,
   "metadata": {},
   "outputs": [
    {
     "data": {
      "text/plain": [
       "int"
      ]
     },
     "execution_count": 30,
     "metadata": {},
     "output_type": "execute_result"
    }
   ],
   "source": [
    "type(x)"
   ]
  },
  {
   "cell_type": "code",
   "execution_count": 31,
   "metadata": {},
   "outputs": [
    {
     "name": "stdout",
     "output_type": "stream",
     "text": [
      "2\n"
     ]
    }
   ],
   "source": [
    "#type conversion\n",
    "a=2.5\n",
    "b=int(a)\n",
    "print(b)"
   ]
  },
  {
   "cell_type": "code",
   "execution_count": 9,
   "metadata": {},
   "outputs": [
    {
     "name": "stdout",
     "output_type": "stream",
     "text": [
      "18\n"
     ]
    }
   ],
   "source": [
    "#A string is a collection of alphabets, words or characters represented with the help of quotation marks. \n",
    "#Python has a built-in class for named str for handling string-related operations.\n",
    "name=\"gomathitamilselvam\"\n",
    "#Use Python's built-in len() function to find the length of strings.\n",
    "length=len(name)\n",
    "print(length)\n"
   ]
  },
  {
   "cell_type": "code",
   "execution_count": 10,
   "metadata": {},
   "outputs": [
    {
     "name": "stdout",
     "output_type": "stream",
     "text": [
      "gomathi\n"
     ]
    }
   ],
   "source": [
    "#Slicing and Indexing in Strings\n",
    "print(name[0:7])"
   ]
  },
  {
   "cell_type": "code",
   "execution_count": 12,
   "metadata": {},
   "outputs": [
    {
     "name": "stdout",
     "output_type": "stream",
     "text": [
      "gomathi\n"
     ]
    }
   ],
   "source": [
    "print(name[-18:-11])"
   ]
  },
  {
   "cell_type": "code",
   "execution_count": 45,
   "metadata": {},
   "outputs": [
    {
     "name": "stdout",
     "output_type": "stream",
     "text": [
      "gmti\n"
     ]
    }
   ],
   "source": [
    "#The actual slicing syntax is [Start index (included): Stop index (excluded): Stride].\n",
    "print(name[0:7:2])"
   ]
  },
  {
   "cell_type": "code",
   "execution_count": 46,
   "metadata": {},
   "outputs": [
    {
     "data": {
      "text/plain": [
       "True"
      ]
     },
     "execution_count": 46,
     "metadata": {},
     "output_type": "execute_result"
    }
   ],
   "source": [
    "#membership operators\n",
    "'g' in name"
   ]
  },
  {
   "cell_type": "code",
   "execution_count": 47,
   "metadata": {},
   "outputs": [
    {
     "data": {
      "text/plain": [
       "False"
      ]
     },
     "execution_count": 47,
     "metadata": {},
     "output_type": "execute_result"
    }
   ],
   "source": [
    "'p' in name"
   ]
  },
  {
   "cell_type": "code",
   "execution_count": 48,
   "metadata": {},
   "outputs": [
    {
     "data": {
      "text/plain": [
       "True"
      ]
     },
     "execution_count": 48,
     "metadata": {},
     "output_type": "execute_result"
    }
   ],
   "source": [
    "'p' not in name"
   ]
  },
  {
   "cell_type": "code",
   "execution_count": 50,
   "metadata": {},
   "outputs": [
    {
     "name": "stdout",
     "output_type": "stream",
     "text": [
      "GOMATHITAMILSELVAM\n"
     ]
    }
   ],
   "source": [
    "certificate_name=name.upper()\n",
    "print(certificate_name)"
   ]
  },
  {
   "cell_type": "code",
   "execution_count": 53,
   "metadata": {},
   "outputs": [
    {
     "data": {
      "text/plain": [
       "['T', 'nambi alwar']"
      ]
     },
     "execution_count": 53,
     "metadata": {},
     "output_type": "execute_result"
    }
   ],
   "source": [
    "mom_name='T.nambi alwar'\n",
    "mom_name.split('.')"
   ]
  },
  {
   "cell_type": "code",
   "execution_count": 54,
   "metadata": {},
   "outputs": [
    {
     "data": {
      "text/plain": [
       "'T.Nambi alwar'"
      ]
     },
     "execution_count": 54,
     "metadata": {},
     "output_type": "execute_result"
    }
   ],
   "source": [
    "mom_name.replace('n','N')"
   ]
  },
  {
   "cell_type": "code",
   "execution_count": 59,
   "metadata": {},
   "outputs": [
    {
     "name": "stdout",
     "output_type": "stream",
     "text": [
      "T.Nambi Alwar\n"
     ]
    }
   ],
   "source": [
    "print(mom_name.title())"
   ]
  },
  {
   "cell_type": "code",
   "execution_count": 64,
   "metadata": {},
   "outputs": [
    {
     "name": "stdout",
     "output_type": "stream",
     "text": [
      "T.nambi alwar\n"
     ]
    }
   ],
   "source": [
    "print(mom_name.strip('.'))"
   ]
  },
  {
   "cell_type": "code",
   "execution_count": 66,
   "metadata": {},
   "outputs": [
    {
     "ename": "TypeError",
     "evalue": "'str' object does not support item assignment",
     "output_type": "error",
     "traceback": [
      "\u001b[1;31m---------------------------------------------------------------------------\u001b[0m",
      "\u001b[1;31mTypeError\u001b[0m                                 Traceback (most recent call last)",
      "\u001b[1;32m<ipython-input-66-2adcf18f8761>\u001b[0m in \u001b[0;36m<module>\u001b[1;34m\u001b[0m\n\u001b[0;32m      1\u001b[0m \u001b[0mdad_name\u001b[0m\u001b[1;33m=\u001b[0m\u001b[1;34m'Tamilselvam'\u001b[0m\u001b[1;33m\u001b[0m\u001b[1;33m\u001b[0m\u001b[0m\n\u001b[1;32m----> 2\u001b[1;33m \u001b[0mdad_name\u001b[0m\u001b[1;33m[\u001b[0m\u001b[1;33m-\u001b[0m\u001b[1;36m1\u001b[0m\u001b[1;33m]\u001b[0m\u001b[1;33m=\u001b[0m\u001b[1;34m'n'\u001b[0m\u001b[1;33m\u001b[0m\u001b[1;33m\u001b[0m\u001b[0m\n\u001b[0m\u001b[0;32m      3\u001b[0m \u001b[0mdad_name\u001b[0m\u001b[1;33m\u001b[0m\u001b[1;33m\u001b[0m\u001b[0m\n",
      "\u001b[1;31mTypeError\u001b[0m: 'str' object does not support item assignment"
     ]
    }
   ],
   "source": [
    "##Strings are immutable\n",
    "dad_name='Tamilselvam'\n",
    "dad_name[-1]='n'\n",
    "dad_name"
   ]
  },
  {
   "cell_type": "code",
   "execution_count": 68,
   "metadata": {},
   "outputs": [
    {
     "name": "stdout",
     "output_type": "stream",
     "text": [
      "hello gomathitamilselvam how is T.nambi alwar\n"
     ]
    }
   ],
   "source": [
    "##String Formatting\n",
    "#Python’s str.format() method of the str class allows you to do variable substitutions and value formatting. \n",
    "#Formatters work by putting in one or more replacement fields or placeholders — defined by a pair of \n",
    "#curly braces {} — into a string and calling the str.format() method.\n",
    "\n",
    "#When you pass into the method the value you want to concatenate with the string, this value will appear in \n",
    "#the same place that your placeholder is positioned when you run the program.\n",
    "\n",
    "print(\"hello {0} how is {1}\".format(name,mom_name))"
   ]
  },
  {
   "cell_type": "code",
   "execution_count": 70,
   "metadata": {},
   "outputs": [
    {
     "name": "stdout",
     "output_type": "stream",
     "text": [
      "T.nambi alwar is fine-------gomathitamilselvam\n"
     ]
    }
   ],
   "source": [
    "print(\"{1} is fine-------{0}\".format(name,mom_name))"
   ]
  },
  {
   "cell_type": "code",
   "execution_count": 2,
   "metadata": {},
   "outputs": [],
   "source": [
    "#Data Structures in python\n",
    "\n",
    "#1.List is a collection of elements which is ordered and mutable (i.e. it's values can be changed after creation).\n",
    "#Elements of the list are enclosed in square brackets []. You can create a list in Python using square brackets \n",
    "#separated by commas and assigning the same to a variable.\n",
    "scores = [80, 90, 95, 100]"
   ]
  },
  {
   "cell_type": "code",
   "execution_count": 3,
   "metadata": {},
   "outputs": [
    {
     "data": {
      "text/plain": [
       "[80, 90, 95, 100]"
      ]
     },
     "execution_count": 3,
     "metadata": {},
     "output_type": "execute_result"
    }
   ],
   "source": [
    "scores"
   ]
  },
  {
   "cell_type": "code",
   "execution_count": 4,
   "metadata": {},
   "outputs": [
    {
     "data": {
      "text/plain": [
       "2139178122120"
      ]
     },
     "execution_count": 4,
     "metadata": {},
     "output_type": "execute_result"
    }
   ],
   "source": [
    "id(scores)"
   ]
  },
  {
   "cell_type": "code",
   "execution_count": 5,
   "metadata": {},
   "outputs": [],
   "source": [
    "scores[2]=85"
   ]
  },
  {
   "cell_type": "code",
   "execution_count": 6,
   "metadata": {},
   "outputs": [
    {
     "data": {
      "text/plain": [
       "[80, 90, 85, 100]"
      ]
     },
     "execution_count": 6,
     "metadata": {},
     "output_type": "execute_result"
    }
   ],
   "source": [
    "scores"
   ]
  },
  {
   "cell_type": "code",
   "execution_count": 7,
   "metadata": {},
   "outputs": [
    {
     "data": {
      "text/plain": [
       "2139178122120"
      ]
     },
     "execution_count": 7,
     "metadata": {},
     "output_type": "execute_result"
    }
   ],
   "source": [
    "id(scores)"
   ]
  },
  {
   "cell_type": "code",
   "execution_count": 1,
   "metadata": {},
   "outputs": [
    {
     "data": {
      "text/plain": [
       "3"
      ]
     },
     "execution_count": 1,
     "metadata": {},
     "output_type": "execute_result"
    }
   ],
   "source": [
    "a=[1,2,3]\n",
    "b=[4,5,6]\n",
    "len(a)"
   ]
  },
  {
   "cell_type": "code",
   "execution_count": 2,
   "metadata": {},
   "outputs": [
    {
     "data": {
      "text/plain": [
       "[1, 2, 3, 4, 5, 6]"
      ]
     },
     "execution_count": 2,
     "metadata": {},
     "output_type": "execute_result"
    }
   ],
   "source": [
    "a+b"
   ]
  },
  {
   "cell_type": "code",
   "execution_count": 3,
   "metadata": {},
   "outputs": [
    {
     "data": {
      "text/plain": [
       "6"
      ]
     },
     "execution_count": 3,
     "metadata": {},
     "output_type": "execute_result"
    }
   ],
   "source": [
    "max(b)"
   ]
  },
  {
   "cell_type": "code",
   "execution_count": 4,
   "metadata": {},
   "outputs": [
    {
     "data": {
      "text/plain": [
       "4"
      ]
     },
     "execution_count": 4,
     "metadata": {},
     "output_type": "execute_result"
    }
   ],
   "source": [
    "min(b)"
   ]
  },
  {
   "cell_type": "code",
   "execution_count": 5,
   "metadata": {},
   "outputs": [],
   "source": [
    "b.reverse()"
   ]
  },
  {
   "cell_type": "code",
   "execution_count": 6,
   "metadata": {},
   "outputs": [
    {
     "data": {
      "text/plain": [
       "[6, 5, 4]"
      ]
     },
     "execution_count": 6,
     "metadata": {},
     "output_type": "execute_result"
    }
   ],
   "source": [
    "b"
   ]
  },
  {
   "cell_type": "code",
   "execution_count": 7,
   "metadata": {},
   "outputs": [
    {
     "data": {
      "text/plain": [
       "[1, 2, 3, 10]"
      ]
     },
     "execution_count": 7,
     "metadata": {},
     "output_type": "execute_result"
    }
   ],
   "source": [
    "a.append(10)\n",
    "a"
   ]
  },
  {
   "cell_type": "code",
   "execution_count": 8,
   "metadata": {},
   "outputs": [
    {
     "data": {
      "text/plain": [
       "[1, 2, 3, 10, 6, 5, 4]"
      ]
     },
     "execution_count": 8,
     "metadata": {},
     "output_type": "execute_result"
    }
   ],
   "source": [
    "a.extend(b)#extend extends the list\n",
    "a"
   ]
  },
  {
   "cell_type": "code",
   "execution_count": 9,
   "metadata": {},
   "outputs": [
    {
     "data": {
      "text/plain": [
       "[1, 2, 3, 10, 6, 5, 4, [6, 5, 4]]"
      ]
     },
     "execution_count": 9,
     "metadata": {},
     "output_type": "execute_result"
    }
   ],
   "source": [
    "a.append(b)#append just adds the former to later\n",
    "a"
   ]
  },
  {
   "cell_type": "code",
   "execution_count": 10,
   "metadata": {},
   "outputs": [
    {
     "data": {
      "text/plain": [
       "[6, 5, 4]"
      ]
     },
     "execution_count": 10,
     "metadata": {},
     "output_type": "execute_result"
    }
   ],
   "source": [
    "a.pop()"
   ]
  },
  {
   "cell_type": "code",
   "execution_count": 11,
   "metadata": {},
   "outputs": [
    {
     "data": {
      "text/plain": [
       "[1, 2, 3, 10, 6, 5, 4]"
      ]
     },
     "execution_count": 11,
     "metadata": {},
     "output_type": "execute_result"
    }
   ],
   "source": [
    "a"
   ]
  },
  {
   "cell_type": "code",
   "execution_count": 12,
   "metadata": {},
   "outputs": [
    {
     "data": {
      "text/plain": [
       "4"
      ]
     },
     "execution_count": 12,
     "metadata": {},
     "output_type": "execute_result"
    }
   ],
   "source": [
    "a.pop()"
   ]
  },
  {
   "cell_type": "code",
   "execution_count": 14,
   "metadata": {},
   "outputs": [],
   "source": [
    "a.remove(10)"
   ]
  },
  {
   "cell_type": "code",
   "execution_count": 15,
   "metadata": {},
   "outputs": [
    {
     "data": {
      "text/plain": [
       "[1, 2, 3, 6, 5]"
      ]
     },
     "execution_count": 15,
     "metadata": {},
     "output_type": "execute_result"
    }
   ],
   "source": [
    "a"
   ]
  },
  {
   "cell_type": "code",
   "execution_count": 16,
   "metadata": {},
   "outputs": [
    {
     "name": "stdout",
     "output_type": "stream",
     "text": [
      "{'apple': 'red', 'banana': 'yellow', 'guava': 'green'}\n"
     ]
    }
   ],
   "source": [
    "#2.Dictionaries--It consists of key value pairs where value can be accessed by unique key in the dictionary\n",
    "fruits ={ 'apple' : 'green','banana' : 'yellow', 'cherry' : 'red' }\n",
    "fruits['apple'] = 'red'\n",
    "d2={'guava' : 'green'}\n",
    "del fruits['cherry']\n",
    "fruits.update(d2)\n",
    "print(fruits)\n"
   ]
  },
  {
   "cell_type": "code",
   "execution_count": 17,
   "metadata": {},
   "outputs": [],
   "source": [
    "fruits['mango']='yellow'#adding new key value pair"
   ]
  },
  {
   "cell_type": "code",
   "execution_count": 18,
   "metadata": {},
   "outputs": [
    {
     "data": {
      "text/plain": [
       "{'apple': 'red', 'banana': 'yellow', 'guava': 'green', 'mango': 'yellow'}"
      ]
     },
     "execution_count": 18,
     "metadata": {},
     "output_type": "execute_result"
    }
   ],
   "source": [
    "fruits"
   ]
  },
  {
   "cell_type": "code",
   "execution_count": 19,
   "metadata": {},
   "outputs": [
    {
     "data": {
      "text/plain": [
       "'green'"
      ]
     },
     "execution_count": 19,
     "metadata": {},
     "output_type": "execute_result"
    }
   ],
   "source": [
    "fruits.get('guava')#accessing the value using .get()"
   ]
  },
  {
   "cell_type": "code",
   "execution_count": 24,
   "metadata": {},
   "outputs": [
    {
     "data": {
      "text/plain": [
       "'rohit'"
      ]
     },
     "execution_count": 24,
     "metadata": {},
     "output_type": "execute_result"
    }
   ],
   "source": [
    "#max function in dictionary\n",
    "math={'raj':25,'rahul':30,'rohit':35}\n",
    "topper=max(math,key=math.get)\n",
    "topper"
   ]
  },
  {
   "cell_type": "code",
   "execution_count": 25,
   "metadata": {},
   "outputs": [],
   "source": [
    "#3.Tuples are another type similar to lists. They store values of any type separated by commas. \n",
    "#Firstly, they start and end with parenthesis (). For ex: (1,2,3,4).\n",
    "#But the main difference is unlike lists tuples are immutable i.e. they cannot be updated/changed. \n",
    "#You can think of them as read-only lists\n",
    "t=(1,2,3,4,'m')"
   ]
  },
  {
   "cell_type": "code",
   "execution_count": 26,
   "metadata": {},
   "outputs": [
    {
     "data": {
      "text/plain": [
       "(1, 2, 3, 4, 'm')"
      ]
     },
     "execution_count": 26,
     "metadata": {},
     "output_type": "execute_result"
    }
   ],
   "source": [
    "t"
   ]
  },
  {
   "cell_type": "code",
   "execution_count": 27,
   "metadata": {},
   "outputs": [
    {
     "data": {
      "text/plain": [
       "5"
      ]
     },
     "execution_count": 27,
     "metadata": {},
     "output_type": "execute_result"
    }
   ],
   "source": [
    "len(t)"
   ]
  },
  {
   "cell_type": "code",
   "execution_count": 29,
   "metadata": {},
   "outputs": [
    {
     "data": {
      "text/plain": [
       "(1, 2, 3, 4, 'm', 1, 2, 3, 4, 'm')"
      ]
     },
     "execution_count": 29,
     "metadata": {},
     "output_type": "execute_result"
    }
   ],
   "source": [
    "t*2"
   ]
  },
  {
   "cell_type": "code",
   "execution_count": 30,
   "metadata": {},
   "outputs": [
    {
     "data": {
      "text/plain": [
       "(1, 2, 3, 4)"
      ]
     },
     "execution_count": 30,
     "metadata": {},
     "output_type": "execute_result"
    }
   ],
   "source": [
    "t[0:4]"
   ]
  },
  {
   "cell_type": "code",
   "execution_count": 31,
   "metadata": {},
   "outputs": [
    {
     "data": {
      "text/plain": [
       "'m'"
      ]
     },
     "execution_count": 31,
     "metadata": {},
     "output_type": "execute_result"
    }
   ],
   "source": [
    "t[-1]"
   ]
  },
  {
   "cell_type": "code",
   "execution_count": 32,
   "metadata": {},
   "outputs": [
    {
     "ename": "TypeError",
     "evalue": "'tuple' object does not support item assignment",
     "output_type": "error",
     "traceback": [
      "\u001b[1;31m---------------------------------------------------------------------------\u001b[0m",
      "\u001b[1;31mTypeError\u001b[0m                                 Traceback (most recent call last)",
      "\u001b[1;32m<ipython-input-32-9baa4666983f>\u001b[0m in \u001b[0;36m<module>\u001b[1;34m\u001b[0m\n\u001b[1;32m----> 1\u001b[1;33m \u001b[0mt\u001b[0m\u001b[1;33m[\u001b[0m\u001b[1;36m0\u001b[0m\u001b[1;33m]\u001b[0m\u001b[1;33m=\u001b[0m\u001b[1;36m11\u001b[0m\u001b[1;33m\u001b[0m\u001b[1;33m\u001b[0m\u001b[0m\n\u001b[0m",
      "\u001b[1;31mTypeError\u001b[0m: 'tuple' object does not support item assignment"
     ]
    }
   ],
   "source": [
    "t[0]=11"
   ]
  },
  {
   "cell_type": "code",
   "execution_count": null,
   "metadata": {},
   "outputs": [],
   "source": [
    "#mutable and immutable\n",
    "#Immutable Object: int, float, long, complex, string, tuple, bool(cant be modified in same memory location)\n",
    "#Mutable Object: list, dict, set, byte array, user-defined classes(modified in same memory location)"
   ]
  },
  {
   "cell_type": "code",
   "execution_count": 33,
   "metadata": {},
   "outputs": [
    {
     "data": {
      "text/plain": [
       "[1, 3, 7, 5]"
      ]
     },
     "execution_count": 33,
     "metadata": {},
     "output_type": "execute_result"
    }
   ],
   "source": [
    "l=[1,3,5,7,5] \n",
    "l.remove(5)\n",
    "l"
   ]
  },
  {
   "cell_type": "code",
   "execution_count": 34,
   "metadata": {},
   "outputs": [
    {
     "data": {
      "text/plain": [
       "(1, 1, 1, 2, 2, 2)"
      ]
     },
     "execution_count": 34,
     "metadata": {},
     "output_type": "execute_result"
    }
   ],
   "source": [
    "var_1=(1,1,1)\n",
    "var_2=(2,2,2)\n",
    "var_1+var_2"
   ]
  },
  {
   "cell_type": "code",
   "execution_count": null,
   "metadata": {},
   "outputs": [],
   "source": [
    "##OPERATORS IN PYTHON\n",
    "#Types of Operators\n",
    "#Python supports the following types of operators:\n",
    "#1.Arithmetic Operators\n",
    "#2.Comparison (Relational) Operators\n",
    "#3.Logical Operators\n",
    "#4.Assignment Operators\n",
    "#5.Bitwise Operators\n",
    "#6.Membership Operators\n",
    "#7.Identity Operators"
   ]
  },
  {
   "cell_type": "code",
   "execution_count": 5,
   "metadata": {},
   "outputs": [
    {
     "name": "stdout",
     "output_type": "stream",
     "text": [
      "The sum of x and y is 19\n",
      "The diff of x and y is 11\n",
      "The product of x and y is 60\n",
      "The division of x and y is 3.75\n",
      "The integer division of x and y is 3\n",
      "The expoential value of x to power y is 50625\n"
     ]
    }
   ],
   "source": [
    "#ARITHMETIC OPERATORS\n",
    "x=15\n",
    "y=4\n",
    "addition = x+y\n",
    "subtraction = x-y\n",
    "multiplication = x*y\n",
    "division = x/y\n",
    "integer_division=x//y\n",
    "exponent = x**y\n",
    "print(f\"The sum of x and y is\",addition)\n",
    "print(f\"The diff of x and y is\",subtraction)\n",
    "print(f\"The product of x and y is\",multiplication)\n",
    "print(f\"The division of x and y is\",division)\n",
    "print(f\"The integer division of x and y is\",integer_division)\n",
    "print(f\"The expoential value of x to power y is\",exponent)"
   ]
  },
  {
   "cell_type": "code",
   "execution_count": 14,
   "metadata": {},
   "outputs": [
    {
     "name": "stdout",
     "output_type": "stream",
     "text": [
      "Is x gretaer than y? False\n",
      "Is x less than y? True\n",
      "Is x equal to y? False\n",
      "Is x greater than or equal to y? False\n",
      "Is x less than or equal to y? True\n"
     ]
    }
   ],
   "source": [
    "#COMPARISON OPERATOR\n",
    "x=10\n",
    "y=12\n",
    "x>y\n",
    "print(\"Is x gretaer than y? {}\".format(x>y))\n",
    "x<y\n",
    "is_less=x<y\n",
    "print(\"Is x less than y? {}\".format(is_less))\n",
    "x==y\n",
    "is_equal=x==y\n",
    "print(\"Is x equal to y? {}\".format(is_equal))\n",
    "x>=y\n",
    "is_greater_equal=x>=y\n",
    "print(\"Is x greater than or equal to y? {}\".format(is_greater_equal))\n",
    "x<=y\n",
    "is_less_equal=x<=y\n",
    "print(\"Is x less than or equal to y? {}\".format(is_less_equal))"
   ]
  },
  {
   "cell_type": "code",
   "execution_count": 16,
   "metadata": {},
   "outputs": [
    {
     "name": "stdout",
     "output_type": "stream",
     "text": [
      "x AND Y is False\n",
      "x OR y is True\n",
      "x NOT y is True\n"
     ]
    }
   ],
   "source": [
    "#LOGICAL OPERATORS\n",
    "x, y = True, False\n",
    "x and y\n",
    "x_and_y=x and y\n",
    "x or y\n",
    "x_or_y=x or y\n",
    "print(\"x AND Y is {}\".format(x_and_y))\n",
    "print(\"x OR y is {}\".format(x_or_y))\n",
    "print(\"x NOT y is {}\".format(not(x and y)))"
   ]
  },
  {
   "cell_type": "code",
   "execution_count": 22,
   "metadata": {},
   "outputs": [
    {
     "name": "stdout",
     "output_type": "stream",
     "text": [
      "John in list name? True\n",
      "John in list name? False\n"
     ]
    }
   ],
   "source": [
    "#MEMBERSHIP OPERATORS\n",
    "name = \"John\"\n",
    "JOHN_1=name in [\"John\",\"Rick\"]\n",
    "JOHN_2=name in [\"Hall\",\"Rick\"]\n",
    "print(\"John in list name? {}\".format(JOHN_1))\n",
    "print(\"John in list name? {}\".format(JOHN_2))"
   ]
  },
  {
   "cell_type": "code",
   "execution_count": 32,
   "metadata": {},
   "outputs": [
    {
     "name": "stdout",
     "output_type": "stream",
     "text": [
      "Is id(x1)=id(y1)True\n",
      "Is id(x2)=id(y2)True\n",
      "Is id(d1)=id(d2)False\n",
      "Is id(l1)=id(l2)False\n"
     ]
    }
   ],
   "source": [
    "#IDENTITY OPERATORS\n",
    "x1=5\n",
    "y1=5\n",
    "x2='Hello'\n",
    "y2='Hello'\n",
    "d1={'a':1,'b':2}\n",
    "d2={'a':1,'b':2}\n",
    "l1=[1,2,3]\n",
    "l2=[1,2,3]\n",
    "# Code starts here\n",
    "x1_is_y1=x1 is y1\n",
    "print(\"Is id(x1)=id(y1){}\".format(x1_is_y1))\n",
    "x2_is_y2=x2 is y2\n",
    "print(\"Is id(x2)=id(y2){}\".format(x2_is_y2))\n",
    "d1_is_d2=d1 is d2\n",
    "print(\"Is id(d1)=id(d2){}\".format(d1_is_d2))\n",
    "print(\"Is id(l1)=id(l2){}\".format(l1 is l2))\n",
    "# Code ends here\n",
    "#NOTE--MUTABLE OBJECTS ID'S ARE DIFFERENT FOR SAME VALUES"
   ]
  },
  {
   "cell_type": "code",
   "execution_count": 29,
   "metadata": {},
   "outputs": [],
   "source": [
    "#ASSIGNMENT OPERATORS\n",
    "#x += a is equivalent to x = x + a\n",
    "#x -= a is equivalent to x = x - a\n",
    "#x *= a is equivalent to x = x * a\n",
    "#x /= a is equivalent to x = x / a\n",
    "#x //= a is equivalent to x = x // a\n",
    "#x %= a is equivalent to x = x % a\n"
   ]
  },
  {
   "cell_type": "code",
   "execution_count": 30,
   "metadata": {},
   "outputs": [
    {
     "name": "stdout",
     "output_type": "stream",
     "text": [
      "True\n"
     ]
    }
   ],
   "source": [
    "a=5\n",
    "b=-2\n",
    "c=2\n",
    "print((c) and (b<0) and (a>0))"
   ]
  },
  {
   "cell_type": "code",
   "execution_count": 1,
   "metadata": {},
   "outputs": [
    {
     "name": "stdout",
     "output_type": "stream",
     "text": [
      "Your value is between 1 and 7.\n",
      "negative\n"
     ]
    }
   ],
   "source": [
    "##CONTROL AND LOOP STATEMENTS\n",
    "#1.if-elif-else--conditions can be written against if and elif statement only and not after else statement\n",
    "x=5\n",
    "#example 1\n",
    "if (x>10):\n",
    "    print(\"Your value is greater than 10. \")\n",
    "elif (x>7):\n",
    "    print(\"Your value is between 7 and 10.\")\n",
    "elif(x>1):\n",
    "    print(\"Your value is between 1 and 7.\")\n",
    "#example 2  \n",
    "num=-8\n",
    "condition=None\n",
    "if num>0:\n",
    "      condition='positive'\n",
    "elif num<0:\n",
    "      condition='negative'\n",
    "else:\n",
    "      condition='zero'\n",
    "print(condition)\n"
   ]
  },
  {
   "cell_type": "code",
   "execution_count": 5,
   "metadata": {},
   "outputs": [
    {
     "name": "stdout",
     "output_type": "stream",
     "text": [
      "x is 1\n"
     ]
    }
   ],
   "source": [
    "#example 3\n",
    "x=1\n",
    "if x%2==0:\n",
    "    print(\"x is even no\")\n",
    "elif ((x%2!=0)&(x!=1)):\n",
    "    print(\"x is odd no\")\n",
    "else:\n",
    "    print(\"x is 1\")"
   ]
  },
  {
   "cell_type": "code",
   "execution_count": 9,
   "metadata": {},
   "outputs": [
    {
     "name": "stdout",
     "output_type": "stream",
     "text": [
      "x is negative\n"
     ]
    }
   ],
   "source": [
    "#nested if else statement\n",
    "x=-5\n",
    "if x>=0:\n",
    "    if x==0:\n",
    "        print(\"x is zero\")\n",
    "    elif x>0:\n",
    "        print(\"x is positive\")\n",
    "else:\n",
    "    print(\"x is negative\")"
   ]
  },
  {
   "cell_type": "code",
   "execution_count": 1,
   "metadata": {},
   "outputs": [
    {
     "name": "stdout",
     "output_type": "stream",
     "text": [
      "[4, 8, 12, 16, 20, 24, 28, 32, 36, 40, 44, 48]\n"
     ]
    }
   ],
   "source": [
    "#2.While Loop\n",
    "#The while loop is used to repeat a section of code an unknown number of times until a specific condition is met. \n",
    "factors=[]\n",
    "num=1\n",
    "while num<=50:\n",
    "     if num%4==0:\n",
    "            factors.append(num)\n",
    "     num=num+1     \n",
    "print(factors)\n"
   ]
  },
  {
   "cell_type": "code",
   "execution_count": null,
   "metadata": {},
   "outputs": [],
   "source": [
    "#3.for loop\n",
    "#A for loop is used to repeat a specific block of code a known number of times. \n",
    "#For example, if you want to check the grade of every student in the class, we loop from 1 to that number. \n",
    "#In general, when the number of times is not known before hand, we use a while loop.\n",
    "#Like all loops, for loops execute blocks of code over and over again. \n",
    "#The advantage to a for loop is we know exactly how many times the loop will execute before the loop starts"
   ]
  },
  {
   "cell_type": "code",
   "execution_count": 8,
   "metadata": {},
   "outputs": [
    {
     "name": "stdout",
     "output_type": "stream",
     "text": [
      "[2, 3, 4, 6, 8, 9, 10, 12, 14, 15, 16, 18, 20, 21, 22, 24, 26, 27, 28, 30, 32, 33, 34, 36, 38, 39, 40, 42, 44, 45, 46, 48, 50]\n"
     ]
    }
   ],
   "source": [
    "divisible=[]\n",
    "for x in range(1,51,1):\n",
    "    if ((x%2==0) | (x%3==0)) :\n",
    "        divisible.append(x)\n",
    "print(divisible)"
   ]
  },
  {
   "cell_type": "code",
   "execution_count": 9,
   "metadata": {},
   "outputs": [
    {
     "name": "stdout",
     "output_type": "stream",
     "text": [
      "[1, 2]\n"
     ]
    }
   ],
   "source": [
    "#LOOP CONTROL STATEMENTS\n",
    "#break-----Terminates the loop and control shifts to the first statement outside it\n",
    "multiples=[]\n",
    "for i in range(1,101):\n",
    "    if i%3!=0:\n",
    "       multiples.append(i)\n",
    "    else:\n",
    "        break\n",
    "print(multiples)"
   ]
  },
  {
   "cell_type": "code",
   "execution_count": 10,
   "metadata": {},
   "outputs": [
    {
     "name": "stdout",
     "output_type": "stream",
     "text": [
      "[1, 2, 4, 5, 7, 8, 10, 11, 13, 14, 16, 17, 19, 20, 22, 23, 25, 26, 28, 29, 31, 32, 34, 35, 37, 38, 40, 41, 43, 44, 46, 47, 49, 50, 52, 53, 55, 56, 58, 59, 61, 62, 64, 65, 67, 68, 70, 71, 73, 74, 76, 77, 79, 80, 82, 83, 85, 86, 88, 89, 91, 92, 94, 95, 97, 98, 100]\n"
     ]
    }
   ],
   "source": [
    "#continue----Causes the loop to skip the remainder of its body and shifts to the next item in the sequence\n",
    "multiples=[]\n",
    "for i in range(1,101):\n",
    "    if i%3!=0:\n",
    "       multiples.append(i)\n",
    "       continue\n",
    "    else:\n",
    "        continue\n",
    "print(multiples)"
   ]
  },
  {
   "cell_type": "code",
   "execution_count": 14,
   "metadata": {},
   "outputs": [
    {
     "name": "stdout",
     "output_type": "stream",
     "text": [
      "[1, 2, 4, 5, 7, 8, 10, 11, 13, 14, 16, 17, 19, 20, 22, 23, 25, 26, 28, 29, 31, 32, 34, 35, 37, 38, 40, 41, 43, 44, 46, 47, 49, 50, 52, 53, 55, 56, 58, 59, 61, 62, 64, 65, 67, 68, 70, 71, 73, 74, 76, 77, 79, 80, 82, 83, 85, 86, 88, 89, 91, 92, 94, 95, 97, 98, 100]\n",
      "[3, 6, 9, 12, 15, 18, 21, 24, 27, 30, 33, 36, 39, 42, 45, 48, 51, 54, 57, 60, 63, 66, 69, 72, 75, 78, 81, 84, 87, 90, 93, 96, 99]\n"
     ]
    }
   ],
   "source": [
    "multiples=[]\n",
    "multiples_of_3=[]\n",
    "for i in range(1,101):\n",
    "    if i%3!=0:\n",
    "       multiples.append(i)\n",
    "       continue\n",
    "    else:\n",
    "        multiples_of_3.append(i)\n",
    "print(multiples)\n",
    "print(multiples_of_3)\n",
    "    \n",
    "\n"
   ]
  },
  {
   "cell_type": "code",
   "execution_count": 15,
   "metadata": {},
   "outputs": [
    {
     "name": "stdout",
     "output_type": "stream",
     "text": [
      "[1, 2, 4, 5, 7, 8, 10, 11, 13, 14, 16, 17, 19, 20, 22, 23, 25, 26, 28, 29, 31, 32, 34, 35, 37, 38, 40, 41, 43, 44, 46, 47, 49, 50, 52, 53, 55, 56, 58, 59, 61, 62, 64, 65, 67, 68, 70, 71, 73, 74, 76, 77, 79, 80, 82, 83, 85, 86, 88, 89, 91, 92, 94, 95, 97, 98, 100]\n"
     ]
    }
   ],
   "source": [
    "#pass---Used when statement is required but we don't want any output\n",
    "multiples=[]\n",
    "for i in range(1,101):\n",
    "    if i%3!=0:\n",
    "       multiples.append(i)\n",
    "    else:\n",
    "        pass\n",
    "print(multiples)"
   ]
  },
  {
   "cell_type": "code",
   "execution_count": 18,
   "metadata": {},
   "outputs": [
    {
     "name": "stdout",
     "output_type": "stream",
     "text": [
      "goms\n"
     ]
    }
   ],
   "source": [
    "#input function\n",
    "name=(input())"
   ]
  },
  {
   "cell_type": "code",
   "execution_count": 20,
   "metadata": {},
   "outputs": [
    {
     "data": {
      "text/plain": [
       "str"
      ]
     },
     "execution_count": 20,
     "metadata": {},
     "output_type": "execute_result"
    }
   ],
   "source": [
    "type(name)"
   ]
  },
  {
   "cell_type": "code",
   "execution_count": 4,
   "metadata": {},
   "outputs": [],
   "source": [
    "#FILE HANDLING IN PYTHON\n",
    "#filepath=text_file\n",
    "##Code starts here\n",
    "##open file in read mode\n",
    "#txtfile=open (filepath,mode='r')\n",
    "##iterate over the file object\n",
    "#filelines=txtfile.readlines()\n",
    "#for line in filelines:\n",
    "   # print(line)\n",
    "# close the file\n",
    "#txtfile.close()\n",
    "##open file in write mode\n",
    "#txtfile=open(filepath,mode='a+')\n",
    "##write to the file\n",
    "#txtfile.write(\"Successfully written to the text file\")\n",
    "##close the file\n",
    "#txtfile.close()\n",
    "# Code ends here\n",
    "\n",
    "# Caution : do not delete this code\n",
    "#file = open(filepath,'r')\n",
    "#lines=[]\n",
    "#for line in file.readlines():\n",
    " #   lines.append(line)\n",
    "#file.close()\n",
    "    "
   ]
  },
  {
   "cell_type": "code",
   "execution_count": 6,
   "metadata": {},
   "outputs": [
    {
     "name": "stdout",
     "output_type": "stream",
     "text": [
      "10\n",
      "Your number is accepted!\n"
     ]
    }
   ],
   "source": [
    "#Exceptions\n",
    "Exceptions\n",
    "#An exception is a Python object that represents an error. \n",
    "#If the normal flow of the program gets disrupted inspite of being syntactically correct, \n",
    "#Python raises an exception; which if not handled properly, the program will terminate.\n",
    "\n",
    "#Remember that exceptions always occur at run-time. Python comes with various built-in \n",
    "#exceptions as well as the possibility to create self-defined exceptions which we will be discussing in the upcoming topics.\n",
    "# custom input\n",
    "num = int(input())\n",
    "\n",
    "# raise exception if input is negative\n",
    "if num < 0:\n",
    "    raise Exception('{} is negative, please enter a positive number'.format(num))\n",
    "\n",
    "# print input number if it is not negative\n",
    "print('Your number is accepted!')\n"
   ]
  },
  {
   "cell_type": "code",
   "execution_count": 7,
   "metadata": {},
   "outputs": [
    {
     "name": "stdout",
     "output_type": "stream",
     "text": [
      "Cannot divide by zero\n"
     ]
    }
   ],
   "source": [
    "# try and except\n",
    "num1, num2 = 5, 0\n",
    "try:\n",
    "    quotient=num1/num2\n",
    "    message=\"Quotient is\"+ ' ' + str(quotient)\n",
    "    print(message)\n",
    "except ZeroDivisionError:\n",
    "    message= \"Cannot divide by zero\"\n",
    "    print(message)\n",
    "    "
   ]
  },
  {
   "cell_type": "code",
   "execution_count": 8,
   "metadata": {},
   "outputs": [
    {
     "name": "stdout",
     "output_type": "stream",
     "text": [
      "Quotient is 1.0\n",
      "No exceptions occurred\n",
      "Execution completed!\n"
     ]
    }
   ],
   "source": [
    "#try except else finally \n",
    "num1, num2 = 5, 5\n",
    "try:\n",
    "    quotient=num1/num2\n",
    "    message= \"Quotient is\"+ ' ' + str(quotient)        \n",
    "    print(message)\n",
    "except ZeroDivisionError:\n",
    "    message=\"cannot divide by zero\"\n",
    "    print(message)\n",
    "else:\n",
    "    new_message=\"No exceptions occurred\"\n",
    "    print(new_message)\n",
    "finally:\n",
    "    final_message=\"Execution completed!\"\n",
    "    print(final_message)\n"
   ]
  },
  {
   "cell_type": "code",
   "execution_count": 11,
   "metadata": {},
   "outputs": [
    {
     "name": "stdout",
     "output_type": "stream",
     "text": [
      "The amt after t years becomes 1120.0\n"
     ]
    }
   ],
   "source": [
    "#What is a function and why are they important?\n",
    "#Function is a block of code that is meant to perform a single, relatable task. During problem solving, \n",
    "#it becomes necessary to break a problem into smaller tasks; functions do just that. \n",
    "#It makes our code more readable and modular. It also avoids repitition and makes code reusable.\n",
    "\n",
    "#Python provides a lot of in-built functions like len(), print() etc. Like any other programming language, \n",
    "#Python also provides support to create customized functions also called user defined functions.\n",
    "\n",
    "def simple_int(p,r,t):\n",
    "    int=p*r*t/100\n",
    "    amt=p+int\n",
    "    return amt\n",
    "print(\"The amt after t years becomes {}\".format(simple_int(1000,6,2)))"
   ]
  },
  {
   "cell_type": "code",
   "execution_count": 12,
   "metadata": {},
   "outputs": [
    {
     "name": "stdout",
     "output_type": "stream",
     "text": [
      "2.5\n"
     ]
    }
   ],
   "source": [
    "def mean(n):\n",
    "    sum=0\n",
    "    for i in range(1,n+1):\n",
    "        sum=sum+i\n",
    "    mean=sum/n\n",
    "    return(mean)\n",
    "val=mean(4)\n",
    "print(val)"
   ]
  },
  {
   "cell_type": "code",
   "execution_count": 19,
   "metadata": {},
   "outputs": [
    {
     "name": "stdout",
     "output_type": "stream",
     "text": [
      "Me too.\n",
      "Its great.\n"
     ]
    }
   ],
   "source": [
    "#Scoping\n",
    "#How long a variable exists, depends on where it is defined. We call the part of a program where a\n",
    "#variable is accessible its scope, and the duration for which the variable exists its lifetime. \n",
    "#For example parameters and variables defined inside a function is/are not visible from outside. \n",
    "#Hence, they have a local scope. Variables declared outside a function have global scopes and they \n",
    "#can be used throughout the program.\n",
    "\n",
    "#To use a local variable as a global one, use the global keyword before the variable name. \n",
    "#In this way Python understands that you are using the reference of the global variable.\n",
    "\n",
    "#Lets understand this with an example below:\n",
    "\n",
    "def f():\n",
    "    # Local scope\n",
    "    s1= \"Me too.\"\n",
    "    print(s1)\n",
    "x=f()\n",
    "# Global scope\n",
    "s = \"Its great.\"\n",
    "#print(x)\n",
    "print(s)\n"
   ]
  },
  {
   "cell_type": "code",
   "execution_count": 22,
   "metadata": {},
   "outputs": [
    {
     "name": "stdout",
     "output_type": "stream",
     "text": [
      "7\n"
     ]
    }
   ],
   "source": [
    "#Why lambda functions?\n",
    "#They are usually small and can have any number of arguments just like a normal function\n",
    "sum_lambda=lambda x,y:x+y\n",
    "summ=sum_lambda(2,5)\n",
    "print(summ)\n",
    "#In the above example:\n",
    "#sumLambda is a function that takes in two numbers and returns the sum.\n",
    "#Arguments lie in between the word lambda and the colon (:).\n",
    "#The function body lies to the right of the :\n",
    "#There is no return statement, the function body is sufficient."
   ]
  },
  {
   "cell_type": "code",
   "execution_count": 23,
   "metadata": {},
   "outputs": [
    {
     "name": "stdout",
     "output_type": "stream",
     "text": [
      "[1, 4, 9, 16, 25, 36, 49, 64, 81, 100, 121, 144, 169, 196]\n"
     ]
    }
   ],
   "source": [
    "square=lambda x:x**2\n",
    "nums=[]\n",
    "square_nums=[]\n",
    "for i in range (1,15):\n",
    "    s=square(i)\n",
    "    square_nums.append(s)\n",
    "print(square_nums)"
   ]
  },
  {
   "cell_type": "code",
   "execution_count": null,
   "metadata": {},
   "outputs": [],
   "source": [
    "#MAP,FILTER AND REDUCE\n",
    "#Higher order functions are those functions which can accept other functions as arguments. \n",
    "#Python provides support for them too. Some of the examples of higher order functions are map(), reduce(), filter() etc.\n"
   ]
  },
  {
   "cell_type": "code",
   "execution_count": 25,
   "metadata": {},
   "outputs": [
    {
     "name": "stdout",
     "output_type": "stream",
     "text": [
      "<map object at 0x000001EACE6CE7F0>\n"
     ]
    }
   ],
   "source": [
    "#map function\n",
    "sq=lambda x:x**2\n",
    "sq_num=map(sq,range(1,11))\n",
    "print(list(sq_num))"
   ]
  },
  {
   "cell_type": "code",
   "execution_count": 27,
   "metadata": {},
   "outputs": [
    {
     "name": "stdout",
     "output_type": "stream",
     "text": [
      "[2, 88]\n"
     ]
    }
   ],
   "source": [
    "#filter function\n",
    "def pos(x):\n",
    "    return x>0\n",
    "print(list(filter(pos,[-1,2,88,-9])))"
   ]
  },
  {
   "cell_type": "code",
   "execution_count": 29,
   "metadata": {},
   "outputs": [
    {
     "name": "stdout",
     "output_type": "stream",
     "text": [
      "[2, 4, 6, 8, 10, 12, 14, 16, 18]\n"
     ]
    }
   ],
   "source": [
    "#filter function\n",
    "natural_nums=range(1,20,1)\n",
    "is_even=lambda x:x%2==0\n",
    "print(list(filter(is_even,natural_nums)))"
   ]
  },
  {
   "cell_type": "code",
   "execution_count": 31,
   "metadata": {},
   "outputs": [
    {
     "name": "stdout",
     "output_type": "stream",
     "text": [
      "abcde\n"
     ]
    }
   ],
   "source": [
    "#reduce function\n",
    "# import reduce\n",
    "from functools import reduce\n",
    "\n",
    "# function to divide two numbers\n",
    "def add(x,y):\n",
    "    return x + y\n",
    "\n",
    "# reduce function\n",
    "reduced = reduce(add, ['a', 'b', 'c','d','e'])\n",
    "print(reduced)"
   ]
  },
  {
   "cell_type": "code",
   "execution_count": null,
   "metadata": {},
   "outputs": [],
   "source": [
    "#Comprehensions\n",
    "#By now, you are already familiar with existing data structures in Python like lists, tuples, dictionaries etc. \n",
    "#All of them need a significant amount of time and code length to create till now.\n",
    "#But they can be created in a much shorter format which is more time-efficient as well as readable. \n",
    "#They are called comprehensions.\n",
    "#Depending on the type of brackets you use, they may be called:\n",
    "#[ ] as list comprehension\n",
    "#( ) as generator expressions\n",
    "#{ } for dictionary and set comprehensions\n",
    "#The syntax for comprehensions remains the same irrespective of the type of bracket we chose and is given below\n",
    "#[expression(iterator) for iterator in iterable if condition]"
   ]
  },
  {
   "cell_type": "code",
   "execution_count": 37,
   "metadata": {},
   "outputs": [
    {
     "data": {
      "text/plain": [
       "[3, 6, 9, 12, 15, 18, 21, 24, 27]"
      ]
     },
     "execution_count": 37,
     "metadata": {},
     "output_type": "execute_result"
    }
   ],
   "source": [
    "x=[i for i in range (1,30) if i%3==0]\n",
    "x"
   ]
  },
  {
   "cell_type": "code",
   "execution_count": 38,
   "metadata": {},
   "outputs": [
    {
     "name": "stdout",
     "output_type": "stream",
     "text": [
      "[1, 4, 6, 8, 9, 10, 12, 14, 15, 16, 18, 20, 21, 22, 24, 25, 26, 27, 28, 30, 32, 33, 34, 35, 36, 38, 39, 40, 42, 44, 45, 46, 48, 49, 50]\n"
     ]
    }
   ],
   "source": [
    "# Code starts here\n",
    "# initialize both lists\n",
    "alist=[i for i in range(1,51)]\n",
    "blist=[2,3,5,7,11,13,17,19,23,29,31,37,41,43,47]\n",
    "# final list\n",
    "final=[i for i in alist if i not in blist]\n",
    "# display final list\n",
    "print(final)\n",
    "# Code ends here"
   ]
  },
  {
   "cell_type": "code",
   "execution_count": null,
   "metadata": {},
   "outputs": [],
   "source": []
  },
  {
   "cell_type": "code",
   "execution_count": null,
   "metadata": {},
   "outputs": [],
   "source": []
  }
 ],
 "metadata": {
  "kernelspec": {
   "display_name": "Python 3",
   "language": "python",
   "name": "python3"
  },
  "language_info": {
   "codemirror_mode": {
    "name": "ipython",
    "version": 3
   },
   "file_extension": ".py",
   "mimetype": "text/x-python",
   "name": "python",
   "nbconvert_exporter": "python",
   "pygments_lexer": "ipython3",
   "version": "3.7.1"
  }
 },
 "nbformat": 4,
 "nbformat_minor": 2
}
